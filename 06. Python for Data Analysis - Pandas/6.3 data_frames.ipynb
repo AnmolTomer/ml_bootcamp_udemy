{
 "cells": [
  {
   "cell_type": "markdown",
   "metadata": {},
   "source": [
    "# DataFrames Pt. 1\n",
    "\n",
    "> DataFrames are the workhorse of pandas and are directly inspired by the R programming language. We can think of a DataFrame as a bunch of Series objects put together to share the same index. Let's use pandas to explore this topic!"
   ]
  },
  {
   "cell_type": "markdown",
   "metadata": {},
   "source": [
    "# In Pt. 1 we cover the following : \n",
    "* Create a basic DataFrame\n",
    "* Indexing\n",
    "* Selection\n",
    "* Dropping rows and cols and importance of inplace parameter.\n",
    "* Reasoning behind axis = 0 for rows and axis = 1 for columns.\n",
    "* Accessing rows and cols in DataFrame"
   ]
  },
  {
   "cell_type": "code",
   "execution_count": null,
   "metadata": {},
   "outputs": [],
   "source": [
    "import numpy as np\n",
    "import pandas as pd"
   ]
  },
  {
   "cell_type": "code",
   "execution_count": null,
   "metadata": {},
   "outputs": [],
   "source": [
    "from numpy.random import randn"
   ]
  },
  {
   "cell_type": "code",
   "execution_count": null,
   "metadata": {},
   "outputs": [],
   "source": [
    "# For having gridlines"
   ]
  },
  {
   "cell_type": "code",
   "execution_count": null,
   "metadata": {},
   "outputs": [],
   "source": [
    "%%HTML\n",
    "<style type=\"text/css\">\n",
    "table.dataframe td, table.dataframe th {\n",
    "    border: 1px  black solid !important;\n",
    "  color: black !important;\n",
    "}"
   ]
  },
  {
   "cell_type": "code",
   "execution_count": null,
   "metadata": {},
   "outputs": [],
   "source": [
    "#  Setting a seed -> Seed makes sure that we get the same random numbers.\n",
    "np.random.seed(101)"
   ]
  },
  {
   "cell_type": "code",
   "execution_count": null,
   "metadata": {},
   "outputs": [],
   "source": [
    "df = pd.DataFrame(randn(5,4),['A','B','C','D','E'],['W','X','Y','Z'])"
   ]
  },
  {
   "cell_type": "code",
   "execution_count": null,
   "metadata": {},
   "outputs": [],
   "source": [
    "df # Gives us a list of columns W X Y Z, and rows A B C D E.\n",
    "# Each of the columns is a pandas sereis, W X Y and Z are series sharing a common index.\n",
    "# That's what dataframe is, a bunch of series that shares an index."
   ]
  },
  {
   "cell_type": "markdown",
   "metadata": {},
   "source": [
    "# Indexing and Selection"
   ]
  },
  {
   "cell_type": "code",
   "execution_count": null,
   "metadata": {},
   "outputs": [],
   "source": [
    "df['W']# Grabs W column which looks like a series. Always use this way to grab a column."
   ]
  },
  {
   "cell_type": "code",
   "execution_count": null,
   "metadata": {},
   "outputs": [],
   "source": [
    "type(df['W']) # Shows that it is a series"
   ]
  },
  {
   "cell_type": "code",
   "execution_count": null,
   "metadata": {},
   "outputs": [],
   "source": [
    "type(df)"
   ]
  },
  {
   "cell_type": "code",
   "execution_count": null,
   "metadata": {},
   "outputs": [],
   "source": [
    "df.W # If familiar with SQL a lot of times while selecting a column you pass in the table.col_name and this works too!\n",
    "# Not recommended!"
   ]
  },
  {
   "cell_type": "code",
   "execution_count": null,
   "metadata": {},
   "outputs": [],
   "source": [
    "# You can also pass in a list of columns\n",
    "df[['W','Z']] # Asking for multiple columns you get back a DataFrame while a single column is just a series."
   ]
  },
  {
   "cell_type": "code",
   "execution_count": null,
   "metadata": {},
   "outputs": [],
   "source": [
    "df['new'] = df['W']+df['Y']\n",
    "# When creating a new columnm, we can define it as if it already exists and on the RHS of = sign use other cols with \n",
    "# arithmetic to make a new column."
   ]
  },
  {
   "cell_type": "code",
   "execution_count": null,
   "metadata": {},
   "outputs": [],
   "source": [
    "df"
   ]
  },
  {
   "cell_type": "markdown",
   "metadata": {},
   "source": [
    "**To remove a column we use df.drop() and pass in the column name. Also we need to refer to axis = 1, by default axis is set to 0.**"
   ]
  },
  {
   "cell_type": "code",
   "execution_count": null,
   "metadata": {},
   "outputs": [],
   "source": [
    "df.drop('new',axis=1)"
   ]
  },
  {
   "cell_type": "code",
   "execution_count": null,
   "metadata": {},
   "outputs": [],
   "source": [
    "# df.drop() usage doesn't actually affects the DataFrame as we can see below on calling DataFrame df.\n",
    "df"
   ]
  },
  {
   "cell_type": "code",
   "execution_count": null,
   "metadata": {},
   "outputs": [],
   "source": [
    "# To actually remove column new we have to enter the parameter inplace = True\n",
    "# Pandas does this so that we do not lose valuable information while dropping.\n",
    "df.drop('new',axis=1,inplace=True)"
   ]
  },
  {
   "cell_type": "code",
   "execution_count": null,
   "metadata": {},
   "outputs": [],
   "source": [
    "df#New column permanently removed."
   ]
  },
  {
   "cell_type": "code",
   "execution_count": null,
   "metadata": {},
   "outputs": [],
   "source": [
    "# df.drop() also used to drop rows.\n",
    "df.drop('E',axis=0)"
   ]
  },
  {
   "cell_type": "markdown",
   "metadata": {},
   "source": [
    "**Another point of confusion is why are rows have axis = 0 and columns have axis = 1.\n",
    "Its reference comes back to NumPy. Since DataFrames are just fancy index markers on top of a NumPy Array.**"
   ]
  },
  {
   "cell_type": "code",
   "execution_count": null,
   "metadata": {},
   "outputs": [],
   "source": [
    "# As a proof of logic we can do the following\n",
    "df.shape"
   ]
  },
  {
   "cell_type": "markdown",
   "metadata": {},
   "source": [
    "**Notice that df.shape is a tuple for a 2-D matrix, at 0 index  is the number of rows and columns at index1.**\n",
    "\n",
    "**Therefore rows as axis = 0 and columns as axis = 1 .**"
   ]
  },
  {
   "cell_type": "markdown",
   "metadata": {},
   "source": [
    "# Rows\n",
    "* 1st method to grab a row : Based on the label of index\n",
    "* loc[]"
   ]
  },
  {
   "cell_type": "code",
   "execution_count": null,
   "metadata": {},
   "outputs": [],
   "source": [
    "df"
   ]
  },
  {
   "cell_type": "code",
   "execution_count": null,
   "metadata": {},
   "outputs": [],
   "source": [
    "# Multiple ways to select rows by making use of method(). \n",
    "# 1. loc (location) -> Takes label as input\n",
    "df.loc['C'] # Though it is a method still we use square brackets here, that's how it works with Pandas.\n"
   ]
  },
  {
   "cell_type": "markdown",
   "metadata": {},
   "source": [
    "**df.loc['row_you_want']**\n",
    "* returns a series. \n",
    "* Therefore, not only all columns are series but rows are as well and are returned as series when requested."
   ]
  },
  {
   "cell_type": "markdown",
   "metadata": {},
   "source": [
    "> 2nd method to grab a row : Based on the index position instead of label\n",
    "# iloc : \n",
    "> index based location Used to pass in a numerical index position, even if axes are labelled by strings."
   ]
  },
  {
   "cell_type": "code",
   "execution_count": null,
   "metadata": {},
   "outputs": [],
   "source": [
    "df.iloc[2] # Numerical based index."
   ]
  },
  {
   "cell_type": "code",
   "execution_count": null,
   "metadata": {},
   "outputs": [],
   "source": [
    "# To select subsets of rows and columns. Similar to numpy\n",
    "df.loc['B','Y']# df.loc['row_we_want','column_we_want']"
   ]
  },
  {
   "cell_type": "code",
   "execution_count": null,
   "metadata": {},
   "outputs": [],
   "source": [
    "# A to E rows with W & Y columns\n",
    "df.loc[['A','B','C','D','E'],['W','Y']]"
   ]
  },
  {
   "cell_type": "markdown",
   "metadata": {},
   "source": [
    "# DataFrames Pt. 2"
   ]
  },
  {
   "cell_type": "markdown",
   "metadata": {},
   "source": [
    "# In Pt. 2 we cover the following : \n",
    "* Conditional Selection\n",
    "* Single line v/s Multiple line abstraction\n",
    "* Using multiple conditions\n",
    "* Reason and fix for ambiguous series error\n",
    "* Modifying the index (Set Index v/s Reset Index)"
   ]
  },
  {
   "cell_type": "code",
   "execution_count": null,
   "metadata": {},
   "outputs": [],
   "source": [
    "#  We can perform conditional selection in Pandas using bracket notation.\n",
    "df"
   ]
  },
  {
   "cell_type": "code",
   "execution_count": null,
   "metadata": {},
   "outputs": [],
   "source": [
    "booldf = df > 0 #Using a comparison operator against the DataFrame gives a DataFrame of boolean values. \n",
    "# Similar to what happens to a numpy array when you just apply a conditional selection."
   ]
  },
  {
   "cell_type": "code",
   "execution_count": null,
   "metadata": {},
   "outputs": [],
   "source": [
    "booldf"
   ]
  },
  {
   "cell_type": "code",
   "execution_count": null,
   "metadata": {},
   "outputs": [],
   "source": [
    "df[booldf] #We will get values where the condition was True and NaN (Not a Number) for all false locations."
   ]
  },
  {
   "cell_type": "code",
   "execution_count": null,
   "metadata": {},
   "outputs": [],
   "source": [
    "# Ideal way to do contional selection is what's defined below. What we did above was just for ease of understanding.\n",
    "df[df>0]"
   ]
  },
  {
   "cell_type": "markdown",
   "metadata": {},
   "source": [
    "> **But the method above of conditional selection is also uncommon and most likely instead of just passing the entire data frame, we would pass a row or a column value and instead of returning NaN it will return only the rows or columns of the subsets of the dataframe where conditions are true.**"
   ]
  },
  {
   "cell_type": "code",
   "execution_count": null,
   "metadata": {},
   "outputs": [],
   "source": [
    "df"
   ]
  },
  {
   "cell_type": "code",
   "execution_count": null,
   "metadata": {},
   "outputs": [],
   "source": [
    "df['W']>0"
   ]
  },
  {
   "cell_type": "code",
   "execution_count": null,
   "metadata": {},
   "outputs": [],
   "source": [
    "df['W'] # Value at index C is less than 0, so returns false for being greater than zero."
   ]
  },
  {
   "cell_type": "code",
   "execution_count": null,
   "metadata": {},
   "outputs": [],
   "source": [
    "# Now we can use the series of boolean values corresponding to rows which is shown  above to filter out rows\n",
    "# based on a column's value.\n",
    "df[df['W']>0] # Returns only the rows where condition is true. We use this type of selection a lot!\n",
    "# As we are passing the series we do not get null values anymore.\n",
    "# Null values only occur when you perform a conditional statement on the entire DataFrame."
   ]
  },
  {
   "cell_type": "code",
   "execution_count": null,
   "metadata": {},
   "outputs": [],
   "source": [
    "#  To grab all the rows in the dataframe where Z < 0\n",
    "df[df['Z']<0]"
   ]
  },
  {
   "cell_type": "code",
   "execution_count": null,
   "metadata": {},
   "outputs": [],
   "source": [
    "resultdf = df[df['W']>0] # Note that we get a DF in response. And this means we can call commands on this DF.\n",
    "# We can do so in 1 or 2 steps."
   ]
  },
  {
   "cell_type": "code",
   "execution_count": null,
   "metadata": {},
   "outputs": [],
   "source": [
    "resultdf"
   ]
  },
  {
   "cell_type": "code",
   "execution_count": null,
   "metadata": {},
   "outputs": [],
   "source": [
    "resultdf['X'] # Grabbing the X column from the resultdf DF where C is not present. We do this here in 2 steps."
   ]
  },
  {
   "cell_type": "code",
   "execution_count": null,
   "metadata": {},
   "outputs": [],
   "source": [
    "# Doing it in 1 step will look like what's described below :\n",
    "df[df['W']>0]['X'] # Return the dataframe where column value of W > 0 i.e. All Rows - C. Then stacking [] bracket \n",
    "# notation on top of that."
   ]
  },
  {
   "cell_type": "code",
   "execution_count": null,
   "metadata": {},
   "outputs": [],
   "source": [
    "df[df['W']>0][['X','Y','Z']] #Since this is a dataframe we can bracket for multiple columns by passing in a list."
   ]
  },
  {
   "cell_type": "code",
   "execution_count": null,
   "metadata": {},
   "outputs": [],
   "source": [
    "#  Line by line version for undestanding of the command above is\n",
    "boolser = df['W']>0"
   ]
  },
  {
   "cell_type": "code",
   "execution_count": null,
   "metadata": {},
   "outputs": [],
   "source": [
    "boolser"
   ]
  },
  {
   "cell_type": "code",
   "execution_count": null,
   "metadata": {},
   "outputs": [],
   "source": [
    "result = df[boolser]"
   ]
  },
  {
   "cell_type": "code",
   "execution_count": null,
   "metadata": {},
   "outputs": [],
   "source": [
    "result # Entire DataFrame without row C since it was False."
   ]
  },
  {
   "cell_type": "code",
   "execution_count": null,
   "metadata": {},
   "outputs": [],
   "source": [
    "mycols = ['X','Y','Z']"
   ]
  },
  {
   "cell_type": "code",
   "execution_count": null,
   "metadata": {},
   "outputs": [],
   "source": [
    "result[mycols] #Only print the mycols columns from result DataFrame."
   ]
  },
  {
   "cell_type": "markdown",
   "metadata": {},
   "source": [
    "# Using multiple conditions"
   ]
  },
  {
   "cell_type": "code",
   "execution_count": null,
   "metadata": {},
   "outputs": [],
   "source": [
    "df[(df['W']>0) and (df['Y']>1)]# W > 0 and Y>1 \n",
    "# Gives us an error saying \"truth value of a Series is ambiguous.\"\n",
    "# It basically means python's and operator can't take into account one series of boolean value with respect to other."
   ]
  },
  {
   "cell_type": "code",
   "execution_count": null,
   "metadata": {},
   "outputs": [],
   "source": [
    "# and operator can take into account only boolean values. For instance\n",
    "print(True and True)\n",
    "print(False and True)"
   ]
  },
  {
   "cell_type": "code",
   "execution_count": null,
   "metadata": {},
   "outputs": [],
   "source": [
    "# On passing the entire series of boolean values such as \n",
    "df['W']>0\n",
    "# the and operator begins to get confused as it deals with single instances of boolean values only."
   ]
  },
  {
   "cell_type": "code",
   "execution_count": null,
   "metadata": {},
   "outputs": [],
   "source": [
    "# Workaround is to use an & while working with pandas.\n",
    "df[(df['W']>0) & (df['Y']>1)]# W > 0 and Y>1 "
   ]
  },
  {
   "cell_type": "markdown",
   "metadata": {},
   "source": [
    "### To avoid ambiguous series error : \n",
    "> * **Use & instead of and**\n",
    "> * **Use | instead of or**\n"
   ]
  },
  {
   "cell_type": "markdown",
   "metadata": {},
   "source": [
    "# Modifying the Index"
   ]
  },
  {
   "cell_type": "code",
   "execution_count": null,
   "metadata": {},
   "outputs": [],
   "source": [
    "df #Original DF"
   ]
  },
  {
   "cell_type": "code",
   "execution_count": null,
   "metadata": {},
   "outputs": [],
   "source": [
    "# To reset the index in range 0....n-1 \n",
    "df.reset_index() # index gets reset to a column and actual index becomes numerical, all of this to prevent loss of \n",
    "#data. Again keep in mind it doesn't occurs inplace and calling back the original df will show us what is above."
   ]
  },
  {
   "cell_type": "code",
   "execution_count": null,
   "metadata": {},
   "outputs": [],
   "source": [
    "df"
   ]
  },
  {
   "cell_type": "code",
   "execution_count": null,
   "metadata": {},
   "outputs": [],
   "source": [
    "# To make the change permanent use inplace in the following manner : \n",
    "# df.reset_index(inplace=True)"
   ]
  },
  {
   "cell_type": "code",
   "execution_count": null,
   "metadata": {},
   "outputs": [],
   "source": [
    "df = pd.DataFrame(randn(5,4),['A','B','C','D','E'],['W','X','Y','Z']) # To get the original index with string index."
   ]
  },
  {
   "cell_type": "code",
   "execution_count": null,
   "metadata": {},
   "outputs": [],
   "source": [
    " df"
   ]
  },
  {
   "cell_type": "code",
   "execution_count": null,
   "metadata": {},
   "outputs": [],
   "source": [
    "df.reset_index() # Old Index becomes a column of the dataframe."
   ]
  },
  {
   "cell_type": "code",
   "execution_count": null,
   "metadata": {},
   "outputs": [],
   "source": [
    "#Setting the index \n",
    "\n",
    "newind = 'CG MP UP TN OR'.split() # Creating a new index\n",
    "# .split() of a string is a common method for splitting off of all the blank space a quick way to create a list."
   ]
  },
  {
   "cell_type": "code",
   "execution_count": null,
   "metadata": {},
   "outputs": [],
   "source": [
    "newind"
   ]
  },
  {
   "cell_type": "code",
   "execution_count": null,
   "metadata": {},
   "outputs": [],
   "source": [
    "#  Putting the list above as column in the DataFrame df\n",
    "df['States'] = newind # Since the dimensions match. So it will add list as a column."
   ]
  },
  {
   "cell_type": "code",
   "execution_count": null,
   "metadata": {},
   "outputs": [],
   "source": [
    "df # We can see that a new column is added at the end of the df."
   ]
  },
  {
   "cell_type": "code",
   "execution_count": null,
   "metadata": {},
   "outputs": [],
   "source": [
    "# To make the states column as index make use of method set_index \n",
    "df.set_index('States') # States column becomes the index.\n",
    "# Note : Unless you retain the information of your old index, set_index will overwrite the old index and you\n",
    "# won't be able to retain the old index information as a new column.\n",
    "# df remains similar to originally defined as inplace = False which is by default."
   ]
  },
  {
   "cell_type": "code",
   "execution_count": null,
   "metadata": {},
   "outputs": [],
   "source": [
    "df"
   ]
  },
  {
   "cell_type": "markdown",
   "metadata": {},
   "source": [
    "# DataFrames Pt. 3"
   ]
  },
  {
   "cell_type": "markdown",
   "metadata": {},
   "source": [
    "### In Pt. 3 we cover the following : \n",
    "\n",
    "* Multi-Index and Index Hierarchy\n",
    "* Calling Data from Multi Level Index\n",
    "* Cross-section xs\n",
    "* Aedvance review of multi-index topics and index hierachy\n"
   ]
  },
  {
   "cell_type": "markdown",
   "metadata": {},
   "source": [
    "> Let us go over how to work with Multi-Index, first we'll create a quick example of what a Multi-Indexed DataFrame would look like:"
   ]
  },
  {
   "cell_type": "code",
   "execution_count": null,
   "metadata": {},
   "outputs": [],
   "source": [
    "# Index Levels\n",
    "outside = ['G1','G1','G1','G2','G2','G2']\n",
    "inside = [1,2,3,1,2,3]\n",
    "hier_index = list(zip(outside,inside)) # Using zip function along with list function to make it a list of tuple pairs\n",
    "hier_index = pd.MultiIndex.from_tuples(hier_index) # Takes in a list which looks like the one below and create a \n",
    "# multi_index from it. Upon execution this gives multiindex with several levels."
   ]
  },
  {
   "cell_type": "code",
   "execution_count": null,
   "metadata": {},
   "outputs": [],
   "source": [
    "list(zip(outside,inside))"
   ]
  },
  {
   "cell_type": "code",
   "execution_count": null,
   "metadata": {},
   "outputs": [],
   "source": [
    "df = pd.DataFrame(randn(6,2),hier_index,['A','B']) # Makes a DF of 6 rows and 2 columns, \n",
    "#index equal to hier index and cols A,B"
   ]
  },
  {
   "cell_type": "code",
   "execution_count": null,
   "metadata": {},
   "outputs": [],
   "source": [
    "df # Gives a dataframe of 2 levels of index. Index1- G1,G2 and Index2 - 1,2,3 and cols A and B"
   ]
  },
  {
   "cell_type": "code",
   "execution_count": null,
   "metadata": {},
   "outputs": [],
   "source": [
    "df.loc['G1'] # Returns sub dataframe of everything inside G1"
   ]
  },
  {
   "cell_type": "code",
   "execution_count": null,
   "metadata": {},
   "outputs": [],
   "source": [
    "df.loc['G1'].loc[1] # Gives everything inside G1's 1st row.\n",
    "#Basic idea is to call from outside index and continue calling in deeper one level."
   ]
  },
  {
   "cell_type": "code",
   "execution_count": null,
   "metadata": {},
   "outputs": [],
   "source": [
    "# To name the indexes of G1 and 1 2 3 we can do following :\n",
    "df.index.names # Gives output showing indices do not have a name shown by None"
   ]
  },
  {
   "cell_type": "code",
   "execution_count": null,
   "metadata": {},
   "outputs": [],
   "source": [
    "df.index.names = ['Groups','Num']"
   ]
  },
  {
   "cell_type": "code",
   "execution_count": null,
   "metadata": {},
   "outputs": [],
   "source": [
    "df"
   ]
  },
  {
   "cell_type": "code",
   "execution_count": null,
   "metadata": {},
   "outputs": [],
   "source": [
    "df.loc['G2'].loc[2]['B']"
   ]
  },
  {
   "cell_type": "code",
   "execution_count": null,
   "metadata": {},
   "outputs": [],
   "source": [
    "# To index G1 3 [A] -0.925874\n",
    "\n",
    "df.loc['G1'].loc[3]['A']"
   ]
  },
  {
   "cell_type": "code",
   "execution_count": null,
   "metadata": {},
   "outputs": [],
   "source": [
    "df.xs('G1') # Returns a cross-section of rows and columns from a series of DF. Used with multi-level indexes."
   ]
  },
  {
   "cell_type": "code",
   "execution_count": null,
   "metadata": {},
   "outputs": [],
   "source": [
    "df.loc['G1']"
   ]
  },
  {
   "cell_type": "code",
   "execution_count": null,
   "metadata": {},
   "outputs": [],
   "source": [
    "# What's nice about cross-section xs is that it has ability to skip or go inside a multilevel index.\\\n",
    "# Say we have dataframe df\n",
    "df"
   ]
  },
  {
   "cell_type": "markdown",
   "metadata": {},
   "source": [
    "* ***Aim : To grab all the values of number equal to 1 of G1 and G2 num 1 as well i.e. all values whose num = 1.***\n",
    "* ***This is hard to achieve in .loc method. But it is easy to do using xs method.***\n",
    "* ***Specify what you want as far as num = 1, and indicate the second argument level and name of index.***"
   ]
  },
  {
   "cell_type": "code",
   "execution_count": null,
   "metadata": {},
   "outputs": [],
   "source": [
    "df.xs(1,level='Num')"
   ]
  },
  {
   "cell_type": "code",
   "execution_count": null,
   "metadata": {},
   "outputs": [],
   "source": [
    "# We are able to grab a xs (cross-section) where level = 'Num' and is 1.b"
   ]
  },
  {
   "cell_type": "markdown",
   "metadata": {},
   "source": [
    "# Great Work! "
   ]
  }
 ],
 "metadata": {
  "kernelspec": {
   "display_name": "Python 3",
   "language": "python",
   "name": "python3"
  },
  "language_info": {
   "codemirror_mode": {
    "name": "ipython",
    "version": 3
   },
   "file_extension": ".py",
   "mimetype": "text/x-python",
   "name": "python",
   "nbconvert_exporter": "python",
   "pygments_lexer": "ipython3",
   "version": "3.7.0"
  }
 },
 "nbformat": 4,
 "nbformat_minor": 2
}

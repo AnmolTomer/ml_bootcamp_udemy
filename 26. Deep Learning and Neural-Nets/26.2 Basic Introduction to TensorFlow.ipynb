{
 "cells": [
  {
   "cell_type": "markdown",
   "metadata": {},
   "source": [
    "# Introduction to TensorFlow"
   ]
  },
  {
   "cell_type": "markdown",
   "metadata": {},
   "source": [
    "- TensorFlow is an open source software library, developed by Google.\n",
    "- It has quickly become the most popular Deep Learning Library in the field.\n",
    "- It can run on either CPU or GPU\n",
    "    - Typically, Deep Neural Networks run much faster on GPU"
   ]
  },
  {
   "cell_type": "markdown",
   "metadata": {},
   "source": [
    "## Basic Idea behind TensorFlow\n",
    "\n",
    "- The basic idea behind TensorFlow is to be able to create a data flow graph.\n",
    "- These graphs have nodes and edges, just as we saw in 26.1 notebook on Neural Networks.\n",
    "- The arrays (data) passed along from layer of nodes to layer of nodes is known as a Tensor."
   ]
  },
  {
   "cell_type": "markdown",
   "metadata": {},
   "source": [
    "## Ways to use TensorFlow\n",
    "\n",
    "- There are two ways to use TensorFlow\n",
    "    - Customizable Graph Session\n",
    "    - Scikit-Learn type interface with Contrib.Learn\n",
    "\n",
    "We will cover both, but keep in mind the Session method can feel very overwhelming if you don't have a strong background in mathematics behind these topics.\n",
    "\n",
    "[**TensorFlow DOCUMENTATION**](https://www.tensorflow.org/overview/)\n",
    "\n",
    "- Feel free to explore on the documentation page, there are tutorials, getting started guide, MNIST for beginners and experts, implementation of TF on JS, TF 2.0 and much more."
   ]
  }
 ],
 "metadata": {
  "hide_input": false,
  "kernelspec": {
   "display_name": "Python 3",
   "language": "python",
   "name": "python3"
  },
  "language_info": {
   "codemirror_mode": {
    "name": "ipython",
    "version": 3
   },
   "file_extension": ".py",
   "mimetype": "text/x-python",
   "name": "python",
   "nbconvert_exporter": "python",
   "pygments_lexer": "ipython3",
   "version": "3.7.3"
  },
  "toc": {
   "base_numbering": 1,
   "nav_menu": {},
   "number_sections": true,
   "sideBar": true,
   "skip_h1_title": false,
   "title_cell": "Table of Contents",
   "title_sidebar": "Contents",
   "toc_cell": false,
   "toc_position": {},
   "toc_section_display": true,
   "toc_window_display": false
  },
  "varInspector": {
   "cols": {
    "lenName": 16,
    "lenType": 16,
    "lenVar": 40
   },
   "kernels_config": {
    "python": {
     "delete_cmd_postfix": "",
     "delete_cmd_prefix": "del ",
     "library": "var_list.py",
     "varRefreshCmd": "print(var_dic_list())"
    },
    "r": {
     "delete_cmd_postfix": ") ",
     "delete_cmd_prefix": "rm(",
     "library": "var_list.r",
     "varRefreshCmd": "cat(var_dic_list()) "
    }
   },
   "types_to_exclude": [
    "module",
    "function",
    "builtin_function_or_method",
    "instance",
    "_Feature"
   ],
   "window_display": false
  }
 },
 "nbformat": 4,
 "nbformat_minor": 2
}

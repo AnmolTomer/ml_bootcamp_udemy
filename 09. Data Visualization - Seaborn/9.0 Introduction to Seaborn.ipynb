{
 "cells": [
  {
   "cell_type": "markdown",
   "metadata": {},
   "source": [
    "___\n",
    "\n",
    "<a href='https://github.com/ai-vithink'> <img src='https://avatars1.githubusercontent.com/u/41588940?s=200&v=4' /></a>\n",
    "___\n",
    "# Introduction\n",
    "\n",
    "#### What we'll cover :\n",
    "   * What Seaborn actually is ?\n",
    "   * How to install it on your computer ?\n",
    "   * Where to find the official documentation ?"
   ]
  },
  {
   "cell_type": "markdown",
   "metadata": {},
   "source": [
    "# What is Seaborn ?\n",
    "\n",
    "* It is a statistical plotting library.\n",
    "* It is built on top of matplotlib.\n",
    "* One of the things which gives seaborn edge over matplotlib is that it has beautiful default styles.\n",
    "* It is also designed to work very well with pandas dataframe objects."
   ]
  },
  {
   "cell_type": "markdown",
   "metadata": {},
   "source": [
    "# Installing Seaborn on your computer\n",
    "\n",
    "* You'll need to install seaborn with pip or conda at your command line or terminal in following manner :\n",
    "    * Anaconda User : conda install seaborn\n",
    "                    or\n",
    "    * Pip : pip install seaborn"
   ]
  },
  {
   "cell_type": "markdown",
   "metadata": {},
   "source": [
    "# Documentation \n",
    "\n",
    "* GitHub Repo Link : https://github.com/mwaskom/seaborn\n",
    "* Official Documentation : https://seaborn.pydata.org/\n",
    "Check out Gallery section at Official Documentation page to see some awesome looking plots like heatmaps, violin plots, hexbin joint plot. \n",
    "* API Reference : https://seaborn.pydata.org/api.html \n",
    "Reference to various plot types. We'll be using these going over these as we learn Seaborn, things like calling these seaborn plots, utilize Pandas with these plots and create some really good looking Statistical Plot Visualizations."
   ]
  }
 ],
 "metadata": {
  "kernelspec": {
   "display_name": "Python 3",
   "language": "python",
   "name": "python3"
  },
  "language_info": {
   "codemirror_mode": {
    "name": "ipython",
    "version": 3
   },
   "file_extension": ".py",
   "mimetype": "text/x-python",
   "name": "python",
   "nbconvert_exporter": "python",
   "pygments_lexer": "ipython3",
   "version": "3.7.0"
  }
 },
 "nbformat": 4,
 "nbformat_minor": 2
}

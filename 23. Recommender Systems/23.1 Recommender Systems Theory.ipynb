{
 "cells": [
  {
   "cell_type": "markdown",
   "metadata": {},
   "source": [
    "# <span class=\"mark\">Recommender Systems</span>"
   ]
  },
  {
   "cell_type": "markdown",
   "metadata": {},
   "source": [
    "- In this lecture we discuss different types of recommender systems and how to approach creating a recommendation system with Python."
   ]
  },
  {
   "cell_type": "markdown",
   "metadata": {},
   "source": [
    "## Reading Assignment\n",
    "- In case you want to know more than what we cover in this series we highly suggest to take a look at following book :\n",
    "<span class=\"girk\">**Recommender Systems by Jannach and Zanker**</span>\n",
    "- It is a great book to get a deeper understanding of recommender systems."
   ]
  },
  {
   "cell_type": "markdown",
   "metadata": {},
   "source": [
    "## Know this about recommender systems :\n",
    "- A fully developed and deployed recommendation system is extremely complex and resource intensive.\n",
    "\n",
    "- You will find 2 notebooks on this topic in this series :\n",
    "    - Recommender Systems with Python\n",
    "    - Advanced Recommender Systems with Python\n",
    "    \n",
    "- As full recommender systems require a heavy linear algebra background, the advanced recommender system notebook is provided as an optional resource.\n",
    "\n",
    "- Have a look at advanced recommender system notebook only if you feel comfortable with advanced linear algebra.\n",
    "\n",
    "- We'll show a simpler version of creating a recommendation system using item similarity for the project."
   ]
  },
  {
   "cell_type": "markdown",
   "metadata": {},
   "source": [
    "## Light Theory on Recommendation Systems :\n",
    "\n",
    "- The two most common types of recommendation systems are <span class=\"girk\">Content-Based</span> and <span class=\"mark\">Collaborative-Filtering (CF)</span>\n",
    "\n",
    "- **Collaborative-Filtering (CF)** produces recommendation based on the knowledge of users' attitude to items, that is it uses the \"wisdom of the crowd\" to recommend items.\n",
    "e.g. Amazon where based on other people's shopping choices, Amazon suggests items that we will enjoy. Basically this is filtering on the basis of user preferences.\n",
    "\n",
    "- **Content-Based** recommender systems focus on the attributes of the items and give you recommendations based on similarity between them.Basically this is filtering on the basis of similarity between items.\n",
    "e.g. Netflix\n",
    "\n",
    "- CF is more used generally in real world over Content-Based system, as it usually gives better result and is easy to understand from an implementation POV, given you have linear algebra background.\n",
    "\n",
    "- Collaborative-Filtering (CF) has ability to do feature learning on its own, that is it can learn itself about what features to use while recommending certain items."
   ]
  },
  {
   "cell_type": "markdown",
   "metadata": {},
   "source": [
    "- **Collaborative-Filtering (CF)** can further be divided into 2 more categories :\n",
    "    <span class=\"girk\">1. Memory-Based Collaborative-Filtering\n",
    "    2. Model-Based Collaborative-Filtering</span>\n",
    "\n",
    "**NOTE :** In the advanced notebook tutorial, we implement Model-Based CF by using singular value decomposition (SVD) and Memory Based CF by computing cosine similarity."
   ]
  },
  {
   "cell_type": "markdown",
   "metadata": {},
   "source": [
    "## Implementation\n",
    "\n",
    "- For our implementation in Python, we will create a content based recommender system for a dataset of movies.\n",
    "- This movie dataset is usually a student's first dataset when beginning to learn about recommender systems.\n",
    "- It is quite large compared to other datasets we have worked with,but in general, recommender systems in real life usually deal with much larger data sets than this one.\n",
    "- There won't be a full exercise with questions for this topic, instead of that there will be an option to work through the advanced notebook if you feel you are comfortable with the linear algebra involved."
   ]
  }
 ],
 "metadata": {
  "hide_input": false,
  "kernelspec": {
   "display_name": "Python 3",
   "language": "python",
   "name": "python3"
  },
  "language_info": {
   "codemirror_mode": {
    "name": "ipython",
    "version": 3
   },
   "file_extension": ".py",
   "mimetype": "text/x-python",
   "name": "python",
   "nbconvert_exporter": "python",
   "pygments_lexer": "ipython3",
   "version": "3.7.3"
  },
  "toc": {
   "base_numbering": 1,
   "nav_menu": {},
   "number_sections": true,
   "sideBar": true,
   "skip_h1_title": false,
   "title_cell": "Table of Contents",
   "title_sidebar": "Contents",
   "toc_cell": false,
   "toc_position": {
    "height": "calc(100% - 180px)",
    "left": "10px",
    "top": "150px",
    "width": "332.4px"
   },
   "toc_section_display": true,
   "toc_window_display": true
  },
  "varInspector": {
   "cols": {
    "lenName": 16,
    "lenType": 16,
    "lenVar": 40
   },
   "kernels_config": {
    "python": {
     "delete_cmd_postfix": "",
     "delete_cmd_prefix": "del ",
     "library": "var_list.py",
     "varRefreshCmd": "print(var_dic_list())"
    },
    "r": {
     "delete_cmd_postfix": ") ",
     "delete_cmd_prefix": "rm(",
     "library": "var_list.r",
     "varRefreshCmd": "cat(var_dic_list()) "
    }
   },
   "types_to_exclude": [
    "module",
    "function",
    "builtin_function_or_method",
    "instance",
    "_Feature"
   ],
   "window_display": false
  }
 },
 "nbformat": 4,
 "nbformat_minor": 2
}
